{
 "cells": [
  {
   "cell_type": "code",
   "execution_count": 11,
   "metadata": {},
   "outputs": [],
   "source": [
    "import pandas as pd\n",
    "import numpy as np\n",
    "import json\n",
    "import os\n",
    "#collecting contracts name\n",
    "dataset='smartbugs/data_analysis/'\n",
    "results_path='../results/'\n",
    "contracts_path=os.path.join(results_path,dataset,'contracts.csv')\n",
    "storage_path=os.path.join(results_path,dataset)\n",
    "patches_path=os.path.join(results_path,dataset,'all_patches_stats.csv')\n",
    "\n",
    "\n",
    "patches=pd.read_csv(patches_path)\n"
   ]
  },
  {
   "cell_type": "code",
   "execution_count": 12,
   "metadata": {},
   "outputs": [
    {
     "name": "stdout",
     "output_type": "stream",
     "text": [
      "sGuardPlus\n",
      "['0x7541b76cb60f4c60af330c208b0623b7f54bf615.sol'\n",
      " '0xf015c35649c82f5467c9c74b7f28ee67665aad68.sol'\n",
      " '0x4e73b32ed6c35f570686b89848e5f39f20ecc106.sol' 'reentrancy_dao.sol'\n",
      " '0x7b368c4e805c3870b6c49a3f1f49f69af8662cf3.sol' 'phishable.sol'\n",
      " '0x52d2e0f9b01101a59b38a3d05c80b7618aeed984.sol'\n",
      " 'overflow_simple_add.sol' 'integer_overflow_mul.sol'\n",
      " '0xb7c5c5aa4d42967efe906e1b66cb8df9cebf04f7.sol']\n",
      "------------------------------------\n",
      "SmartFix\n",
      "['0x8c7777c45481dba411450c228cb692ac3d550344.sol' 'phishable.sol'\n",
      " '0x941d225236464a25eb18076df7da6a91d0f95e9e.sol' 'simple_suicide.sol'\n",
      " '0xb93430ce38ac4a6bb47fb1fc085ea669353fd89e.sol'\n",
      " 'modifier_reentrancy.sol' 'reentrancy_simple.sol' 'reentrancy_bonus.sol'\n",
      " 'integer_overflow_multitx_onefunc_feasible.sol' 'simple_dao.sol']\n",
      "------------------------------------\n",
      "SolGPT\n",
      "['0x07f7ecb66d788ab01dc93b9b71a88401de7d0f2e_3round.sol'\n",
      " '0x4b71ad9c1a84b9b643aa54fdd66e2dec96e8b152_1round.sol'\n",
      " '0x7541b76cb60f4c60af330c208b0623b7f54bf615_3round.sol'\n",
      " 'integer_overflow_minimal_1round.sol' 'etherstore_3round.sol'\n",
      " 'reentrancy_dao_4round.sol' 'roulette_4round.sol'\n",
      " '0xcead721ef5b11f1a7b530171aab69b16c5e66b6e_3round.sol'\n",
      " '0xb11b2fed6c9354f7aa2f658d3b4d7b31d8a13b77_3round.sol'\n",
      " 'wallet_02_refund_nosub_2round.sol']\n",
      "------------------------------------\n"
     ]
    }
   ],
   "source": [
    "# Generate 10 random samples per source code tool\n",
    "sofias_tools = [\n",
    "    #'Elysium',\n",
    "    #'sGuard',\n",
    "    'sGuardPlus',\n",
    "    'SmartFix',\n",
    "    #'SmartShield',\n",
    "    \"SolGPT\",\n",
    "    #'TIPS',\n",
    "]\n",
    "\n",
    "import random as rd\n",
    "import pandas as pd\n",
    "import os\n",
    "\n",
    "\n",
    "for tool in sofias_tools:\n",
    "    print(tool)\n",
    "    # Fixed the syntax error: use parentheses around each condition\n",
    "    patches_tool = patches[(patches['Tool'] == tool) & (patches['mitigates'] == 'yes')]\n",
    "    \n",
    "    # Get 10 random samples or all if less than 10 are available\n",
    "    if len(patches_tool) > 10:\n",
    "        patches_sample = patches_tool.sample(10, random_state=42)\n",
    "    else:\n",
    "        patches_sample = patches_tool\n",
    "    \n",
    "    # Save the sampled patches to CSV\n",
    "    patches_sample.to_csv(os.path.join(storage_path, tool + '_patches.csv'), index=False)\n",
    "    \n",
    "    # Print contract names for verification\n",
    "    print(patches_sample['Patch'].values)\n",
    "    print('------------------------------------')"
   ]
  }
 ],
 "metadata": {
  "kernelspec": {
   "display_name": "venv",
   "language": "python",
   "name": "python3"
  },
  "language_info": {
   "codemirror_mode": {
    "name": "ipython",
    "version": 3
   },
   "file_extension": ".py",
   "mimetype": "text/x-python",
   "name": "python",
   "nbconvert_exporter": "python",
   "pygments_lexer": "ipython3",
   "version": "3.12.3"
  }
 },
 "nbformat": 4,
 "nbformat_minor": 2
}
