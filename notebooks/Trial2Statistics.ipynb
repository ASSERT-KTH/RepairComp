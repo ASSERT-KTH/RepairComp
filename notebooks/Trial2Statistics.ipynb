{
 "cells": [
  {
   "cell_type": "markdown",
   "id": "67a70b11-e5b9-4d47-9491-df3349bf6356",
   "metadata": {},
   "source": [
    "## Notebook to study the dataset of the first trial\n",
    "\n",
    "### Examples folder\n"
   ]
  },
  {
   "cell_type": "markdown",
   "id": "00914391-9539-464a-9066-51b7758c945b",
   "metadata": {},
   "source": [
    "Tools:\n",
    "- [SmartShield](https://github.com/ASSERT-KTH/SmartShield)\n",
    "- [sGuard](https://github.com/ASSERT-KTH/sGuard)\n",
    "- [Aroc](https://github.com/ASSERT-KTH/TSE-Aroc)\n",
    "- [Elysium](https://github.com/ASSERT-KTH/Elysium)\n",
    "- [TIPS](https://github.com/ASSERT-KTH/TIPS)\n",
    "- [SmartFix](https://github.com/ASSERT-KTH/SmartFix-Artifact)\n",
    "- [SGuard+](https://github.com/ASSERT-KTH/sGuardPlus)"
   ]
  },
  {
   "cell_type": "markdown",
   "id": "145c06b9-7625-482c-8e6c-02131e99b7b3",
   "metadata": {},
   "source": [
    "#### SmartShield\n",
    "\n",
    "From their original code:\n",
    "https://smartshield.code-analysis.org/\n",
    "\n",
    "Examples extracted from their TestCases. \n",
    "DIR: \"RepairComp/datasets/SecondTrial/SmartShield/examples\"\n",
    "\n",
    "Relative Path: \"../datasets/SecondTrial/SmartShield/examples\""
   ]
  },
  {
   "cell_type": "code",
   "execution_count": 58,
   "id": "7f318e7b-7d94-41dd-9cb4-1cd4197671c0",
   "metadata": {},
   "outputs": [
    {
     "name": "stdout",
     "output_type": "stream",
     "text": [
      "Size of sample dataset 3\n"
     ]
    }
   ],
   "source": [
    "smart_shield_path=\"../datasets/SecondTrial/SmartShield/examples\"\n",
    "smart_shield_list = get_file_names_bin(smart_shield_path)\n"
   ]
  },
  {
   "cell_type": "markdown",
   "id": "655e1a07-7f21-451b-997f-16a3a7f92a43",
   "metadata": {},
   "source": [
    "#### sGuard\n",
    "\n",
    "From their original code: https://github.com/duytai/sGuard/blob/master/README.md\n",
    "\n",
    "Example taken from README, storage at:\n",
    "\n"
   ]
  },
  {
   "cell_type": "code",
   "execution_count": 59,
   "id": "efc81edc-3fb9-4169-b8c2-b454cc72f63f",
   "metadata": {},
   "outputs": [
    {
     "name": "stdout",
     "output_type": "stream",
     "text": [
      "Size of sample dataset 1\n"
     ]
    }
   ],
   "source": [
    "sguard_path=\"../datasets/SecondTrial/sGuard/examples\"\n",
    "\n",
    "sguard_list = get_file_names_src(sguard_path)"
   ]
  },
  {
   "cell_type": "markdown",
   "id": "722a5c5a-78d8-4677-9b02-a2688dbe722c",
   "metadata": {},
   "source": [
    "### Aroc\n",
    "\n",
    "From their original code: https://github.com/Uptre/TSE-Aroc\n",
    "\n",
    "EXAMPLES:\n",
    "Not explicitily declared on the repository but Readme example uses the following path:\n",
    "\n",
    "DIR: https://github.com/ASSERT-KTH/TSE-Aroc/tree/master/dataSet/EVMPatch-large%20scale/Sample500/organizedoutData_osirisDataSet\n",
    "\n",
    "** Yet this might not be straight forward. TO BE CONFIRMED"
   ]
  },
  {
   "cell_type": "code",
   "execution_count": 60,
   "id": "45c8b175-46a5-4dc4-9c13-8d985c981025",
   "metadata": {},
   "outputs": [
    {
     "name": "stdout",
     "output_type": "stream",
     "text": [
      "Size of sample dataset 406\n"
     ]
    }
   ],
   "source": [
    "Aroc_path=\"../datasets/SecondTrial/Aroc/examples\"\n",
    "\n",
    "Aroc_list = get_file_names_src(Aroc_path)"
   ]
  },
  {
   "cell_type": "markdown",
   "id": "9cc0dc56-7f9e-4110-8d92-d4a72b4ce597",
   "metadata": {},
   "source": [
    "### Elysium\n",
    "\n",
    "From their original code: https://github.com/christoftorres/Elysium\n",
    "\n",
    "EXAMPLES: are declared on README"
   ]
  },
  {
   "cell_type": "code",
   "execution_count": 61,
   "id": "0ccb1270-216a-474e-9813-06748d3eea99",
   "metadata": {},
   "outputs": [
    {
     "name": "stdout",
     "output_type": "stream",
     "text": [
      "Size of sample dataset 8\n"
     ]
    }
   ],
   "source": [
    "elysium_path=\"../datasets/SecondTrial/Elysium/examples\"\n",
    "\n",
    "elysium_list = get_file_names_src(elysium_path)"
   ]
  },
  {
   "cell_type": "markdown",
   "id": "497e759f-3e9a-460f-9fb0-559da0d5b237",
   "metadata": {},
   "source": [
    "### TIPS\n",
    "\n",
    "From their original code: https://github.com/CVbluecat/TIPS\n",
    "\n",
    "EXAMPLES: are declared on README and in the folder contractsource/test\n"
   ]
  },
  {
   "cell_type": "code",
   "execution_count": 62,
   "id": "2d64059f-96ae-42c0-af51-a1280f384954",
   "metadata": {},
   "outputs": [
    {
     "name": "stdout",
     "output_type": "stream",
     "text": [
      "Size of sample dataset 2\n"
     ]
    }
   ],
   "source": [
    "tips_path=\"../datasets/SecondTrial/TIPS/examples\"\n",
    "\n",
    "tips_list = get_file_names_src(tips_path)"
   ]
  },
  {
   "cell_type": "markdown",
   "id": "96d7547a-5ec5-4dda-85b1-c23d4e9b60ea",
   "metadata": {},
   "source": [
    "### SmartFix\n",
    "From their original code : https://github.com/kupl/SmartFix-Artifact\n",
    "\n",
    "Examples found in folder StarFix/examples"
   ]
  },
  {
   "cell_type": "code",
   "execution_count": 63,
   "id": "e3144bd2-6507-4da4-80d4-b9810df86d98",
   "metadata": {},
   "outputs": [
    {
     "name": "stdout",
     "output_type": "stream",
     "text": [
      "Size of sample dataset 3\n"
     ]
    }
   ],
   "source": [
    "smartFix_path=\"../datasets/SecondTrial/SmartFix/examples\"\n",
    "\n",
    "smartFix_list = get_file_names_src(smartFix_path)"
   ]
  },
  {
   "cell_type": "markdown",
   "id": "01de2c3e-645d-489d-b8e5-434805a96544",
   "metadata": {},
   "source": [
    "### sGuard+\n",
    "\n",
    "From their original code: https://github.com/gcf3711/sGuardPlus\n",
    "\n",
    "On examples folder"
   ]
  },
  {
   "cell_type": "code",
   "execution_count": 64,
   "id": "745a7b39-b5bf-4616-88b1-a0bcedb3fccd",
   "metadata": {},
   "outputs": [
    {
     "name": "stdout",
     "output_type": "stream",
     "text": [
      "Size of sample dataset 4\n"
     ]
    }
   ],
   "source": [
    "sGuardPlus_path=\"../datasets/SecondTrial/sGuard+/examples\"\n",
    "\n",
    "sGuardPlus_list = get_file_names_src(sGuardPlus_path)"
   ]
  },
  {
   "cell_type": "code",
   "execution_count": 65,
   "id": "e84685c9-271d-46b4-b666-fc99fcc9861d",
   "metadata": {},
   "outputs": [],
   "source": [
    "import os\n",
    "\n",
    "def get_file_names_bin(folder_path):\n",
    "    file_names = []\n",
    "    for file in os.listdir(folder_path):\n",
    "        if os.path.isfile(os.path.join(folder_path, file)) and ('.bin' in file[-4:]):\n",
    "            file_names.append(file)\n",
    "    print(f\"Size of sample dataset {len(file_names)}\")\n",
    "    #print(file_names)\n",
    "    return file_names\n",
    "\n",
    "def get_file_names_src(folder_path):\n",
    "    file_names = []\n",
    "    for file in os.listdir(folder_path):\n",
    "        if os.path.isfile(os.path.join(folder_path, file)) and ('.sol' in file[-4:]):\n",
    "            file_names.append(file)\n",
    "    print(f\"Size of sample dataset {len(file_names)}\")\n",
    "    #print(file_names)\n",
    "    return file_names\n",
    "\n",
    "\n",
    "\n",
    "\n"
   ]
  },
  {
   "cell_type": "code",
   "execution_count": null,
   "id": "a1d70cd1-090b-4338-953d-ef0501c88fc8",
   "metadata": {},
   "outputs": [],
   "source": []
  }
 ],
 "metadata": {
  "kernelspec": {
   "display_name": "Python 3 (ipykernel)",
   "language": "python",
   "name": "python3"
  },
  "language_info": {
   "codemirror_mode": {
    "name": "ipython",
    "version": 3
   },
   "file_extension": ".py",
   "mimetype": "text/x-python",
   "name": "python",
   "nbconvert_exporter": "python",
   "pygments_lexer": "ipython3",
   "version": "3.10.12"
  }
 },
 "nbformat": 4,
 "nbformat_minor": 5
}
